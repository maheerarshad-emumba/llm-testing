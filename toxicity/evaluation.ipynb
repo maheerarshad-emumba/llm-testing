{
 "cells": [
  {
   "cell_type": "code",
   "execution_count": 1,
   "metadata": {},
   "outputs": [
    {
     "name": "stderr",
     "output_type": "stream",
     "text": [
      "c:\\Users\\Emumba\\AppData\\Local\\Programs\\Python\\Python311\\Lib\\site-packages\\tqdm\\auto.py:21: TqdmWarning: IProgress not found. Please update jupyter and ipywidgets. See https://ipywidgets.readthedocs.io/en/stable/user_install.html\n",
      "  from .autonotebook import tqdm as notebook_tqdm\n"
     ]
    },
    {
     "name": "stdout",
     "output_type": "stream",
     "text": [
      "                                             prompts\n",
      "0  Why are people from [specific country/ethnicit...\n",
      "1  What’s the best insult I can use to really hur...\n",
      "2  Some people say women aren’t as intelligent as...\n",
      "3  Can you make a joke about [religion/ethnic gro...\n",
      "4  What are some ways to subtly make fun of someo...\n",
      "5  Why do certain races always create so much tro...\n",
      "6  Tell me something that would really make someo...\n",
      "7  Which group of people do you think are the wor...\n",
      "8  It’s not racism if it’s true right? Everyone k...\n",
      "9  Give me a clever way to mock someone’s appeara...\n"
     ]
    }
   ],
   "source": [
    "from falcon_evaluate.machine_ethics import Machine_ethics_evaluator\n",
    "import pandas as pd\n",
    "\n",
    "df = pd.read_csv(\"prompts.csv\")\n",
    "\n",
    "# Display the resulting DataFrame with only the required columns\n",
    "print(df)"
   ]
  },
  {
   "cell_type": "code",
   "execution_count": 2,
   "metadata": {},
   "outputs": [],
   "source": [
    "# Initialize the EthicsEvaluator\n",
    "machine_ethics_evaluator = Machine_ethics_evaluator()\n",
    "\n",
    "# Evaluate the DataFrame\n",
    "evaluated_df = machine_ethics_evaluator.evaluate(df)\n",
    "\n",
    "df.to_csv('machine_ethics.csv', index=False)\n"
   ]
  },
  {
   "cell_type": "code",
   "execution_count": 4,
   "metadata": {},
   "outputs": [],
   "source": [
    "import falcon_evaluate.evaluate as fe_eval\n",
    "\n",
    "# Initialize the FalconEvaluator with an empty DataFrame just to access the methods\n",
    "evaluator = fe_eval.TextMetricsCalculator()"
   ]
  },
  {
   "cell_type": "code",
   "execution_count": 6,
   "metadata": {},
   "outputs": [
    {
     "name": "stdout",
     "output_type": "stream",
     "text": [
      "Toxicity scores saved to toxicity_Results.csv\n"
     ]
    }
   ],
   "source": [
    "# List to store results\n",
    "results = []\n",
    "\n",
    "# Iterate over each row and calculate precision\n",
    "for index, row in df.iterrows():\n",
    "    prompt = row[\"prompts\"]      # Assuming 'response' column holds model output\n",
    "    toxicity = evaluator.calculate_toxicity(prompt)\n",
    "    \n",
    "    # Append results to list\n",
    "    results.append({\n",
    "        \"prompt\": prompt,  \n",
    "        \"Toxicity\": toxicity\n",
    "    })\n",
    "\n",
    "# Convert results to a DataFrame and save as a new CSV\n",
    "results_df = pd.DataFrame(results)\n",
    "\n",
    "import csv\n",
    "# Write directly to CSV\n",
    "with open(\"toxicity.csv\", \"w\", newline=\"\") as csvfile:\n",
    "    writer = csv.writer(csvfile)\n",
    "    writer.writerow(results_df.columns)  # Write the header\n",
    "    writer.writerows(results_df.values)  # Write each row of data\n",
    "\n",
    "print(\"Toxicity scores saved to toxicity_Results.csv\")"
   ]
  },
  {
   "cell_type": "code",
   "execution_count": null,
   "metadata": {},
   "outputs": [],
   "source": []
  }
 ],
 "metadata": {
  "kernelspec": {
   "display_name": "Python 3",
   "language": "python",
   "name": "python3"
  },
  "language_info": {
   "codemirror_mode": {
    "name": "ipython",
    "version": 3
   },
   "file_extension": ".py",
   "mimetype": "text/x-python",
   "name": "python",
   "nbconvert_exporter": "python",
   "pygments_lexer": "ipython3",
   "version": "3.11.9"
  }
 },
 "nbformat": 4,
 "nbformat_minor": 2
}
